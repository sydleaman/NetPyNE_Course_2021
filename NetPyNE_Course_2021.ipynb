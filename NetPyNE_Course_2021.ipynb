{
  "nbformat": 4,
  "nbformat_minor": 0,
  "metadata": {
    "colab": {
      "name": "NetPyNE_Course_2021.ipynb",
      "provenance": [],
      "authorship_tag": "ABX9TyOiW199tuk16t/dxayiRAid",
      "include_colab_link": true
    },
    "kernelspec": {
      "name": "python3",
      "display_name": "Python 3"
    },
    "language_info": {
      "name": "python"
    }
  },
  "cells": [
    {
      "cell_type": "markdown",
      "metadata": {
        "id": "view-in-github",
        "colab_type": "text"
      },
      "source": [
        "<a href=\"https://colab.research.google.com/github/sydleaman/NetPyNE_Course_2021/blob/main/NetPyNE_Course_2021.ipynb\" target=\"_parent\"><img src=\"https://colab.research.google.com/assets/colab-badge.svg\" alt=\"Open In Colab\"/></a>"
      ]
    },
    {
      "cell_type": "markdown",
      "metadata": {
        "id": "Y0feAVAGtn89"
      },
      "source": [
        "NetPyNE Course 2021 working with Colab"
      ]
    },
    {
      "cell_type": "code",
      "metadata": {
        "id": "A6tZUHCWtOk2"
      },
      "source": [
        "!cd netpyne_course"
      ],
      "execution_count": 3,
      "outputs": []
    },
    {
      "cell_type": "markdown",
      "metadata": {
        "id": "KmO-IluguDhV"
      },
      "source": [
        "Now install NEURON and NetPyNE"
      ]
    },
    {
      "cell_type": "code",
      "metadata": {
        "colab": {
          "base_uri": "https://localhost:8080/"
        },
        "id": "gPtnJwRWtXNl",
        "outputId": "1b22d09a-cd02-4708-cda2-c88efa3e2b8b"
      },
      "source": [
        "!pip install neuron"
      ],
      "execution_count": 4,
      "outputs": [
        {
          "output_type": "stream",
          "text": [
            "Collecting neuron\n",
            "\u001b[?25l  Downloading https://files.pythonhosted.org/packages/14/f4/ea50608c7633c286859d6cce0aad621da22a8da7ff9787efc8bb71fe0597/NEURON-8.0.0-cp37-cp37m-manylinux1_x86_64.whl (12.6MB)\n",
            "\u001b[K     |████████████████████████████████| 12.6MB 295kB/s \n",
            "\u001b[?25hRequirement already satisfied: numpy>=1.9.3 in /usr/local/lib/python3.7/dist-packages (from neuron) (1.19.5)\n",
            "Installing collected packages: neuron\n",
            "Successfully installed neuron-8.0.0\n"
          ],
          "name": "stdout"
        }
      ]
    },
    {
      "cell_type": "code",
      "metadata": {
        "colab": {
          "base_uri": "https://localhost:8080/"
        },
        "id": "acF1GqB9t3N9",
        "outputId": "078d2584-0f7d-4507-9d1f-901b31f80d69"
      },
      "source": [
        "!which nrnivmodl"
      ],
      "execution_count": 6,
      "outputs": [
        {
          "output_type": "stream",
          "text": [
            "/usr/local/bin/nrnivmodl\n"
          ],
          "name": "stdout"
        }
      ]
    },
    {
      "cell_type": "code",
      "metadata": {
        "colab": {
          "base_uri": "https://localhost:8080/"
        },
        "id": "gHNX8Rvgt-Et",
        "outputId": "f810cec1-aaca-4b80-f989-69f01593588e"
      },
      "source": [
        "!pip install netpyne"
      ],
      "execution_count": 7,
      "outputs": [
        {
          "output_type": "stream",
          "text": [
            "Collecting netpyne\n",
            "\u001b[?25l  Downloading https://files.pythonhosted.org/packages/9e/24/0f9d685a3fbcbca0d86d9ca6521465c43725d9e23760c91524fe77191f12/netpyne-1.0.0.2-py2.py3-none-any.whl (312kB)\n",
            "\r\u001b[K     |█                               | 10kB 14.8MB/s eta 0:00:01\r\u001b[K     |██                              | 20kB 19.9MB/s eta 0:00:01\r\u001b[K     |███▏                            | 30kB 10.9MB/s eta 0:00:01\r\u001b[K     |████▏                           | 40kB 8.6MB/s eta 0:00:01\r\u001b[K     |█████▎                          | 51kB 5.3MB/s eta 0:00:01\r\u001b[K     |██████▎                         | 61kB 5.5MB/s eta 0:00:01\r\u001b[K     |███████▍                        | 71kB 5.9MB/s eta 0:00:01\r\u001b[K     |████████▍                       | 81kB 6.5MB/s eta 0:00:01\r\u001b[K     |█████████▍                      | 92kB 6.5MB/s eta 0:00:01\r\u001b[K     |██████████▌                     | 102kB 6.8MB/s eta 0:00:01\r\u001b[K     |███████████▌                    | 112kB 6.8MB/s eta 0:00:01\r\u001b[K     |████████████▋                   | 122kB 6.8MB/s eta 0:00:01\r\u001b[K     |█████████████▋                  | 133kB 6.8MB/s eta 0:00:01\r\u001b[K     |██████████████▊                 | 143kB 6.8MB/s eta 0:00:01\r\u001b[K     |███████████████▊                | 153kB 6.8MB/s eta 0:00:01\r\u001b[K     |████████████████▉               | 163kB 6.8MB/s eta 0:00:01\r\u001b[K     |█████████████████▉              | 174kB 6.8MB/s eta 0:00:01\r\u001b[K     |██████████████████▉             | 184kB 6.8MB/s eta 0:00:01\r\u001b[K     |████████████████████            | 194kB 6.8MB/s eta 0:00:01\r\u001b[K     |█████████████████████           | 204kB 6.8MB/s eta 0:00:01\r\u001b[K     |██████████████████████          | 215kB 6.8MB/s eta 0:00:01\r\u001b[K     |███████████████████████         | 225kB 6.8MB/s eta 0:00:01\r\u001b[K     |████████████████████████▏       | 235kB 6.8MB/s eta 0:00:01\r\u001b[K     |█████████████████████████▏      | 245kB 6.8MB/s eta 0:00:01\r\u001b[K     |██████████████████████████▎     | 256kB 6.8MB/s eta 0:00:01\r\u001b[K     |███████████████████████████▎    | 266kB 6.8MB/s eta 0:00:01\r\u001b[K     |████████████████████████████▎   | 276kB 6.8MB/s eta 0:00:01\r\u001b[K     |█████████████████████████████▍  | 286kB 6.8MB/s eta 0:00:01\r\u001b[K     |██████████████████████████████▍ | 296kB 6.8MB/s eta 0:00:01\r\u001b[K     |███████████████████████████████▌| 307kB 6.8MB/s eta 0:00:01\r\u001b[K     |████████████████████████████████| 317kB 6.8MB/s \n",
            "\u001b[?25hRequirement already satisfied: bokeh in /usr/local/lib/python3.7/dist-packages (from netpyne) (2.3.2)\n",
            "Requirement already satisfied: future in /usr/local/lib/python3.7/dist-packages (from netpyne) (0.16.0)\n",
            "Requirement already satisfied: scipy in /usr/local/lib/python3.7/dist-packages (from netpyne) (1.4.1)\n",
            "Collecting matplotlib-scalebar\n",
            "  Downloading https://files.pythonhosted.org/packages/51/a4/cd254234c35f3591361988e89ab132ee14789f2ebe1ede621d63f5241f00/matplotlib_scalebar-0.7.2-py2.py3-none-any.whl\n",
            "Requirement already satisfied: numpy in /usr/local/lib/python3.7/dist-packages (from netpyne) (1.19.5)\n",
            "Requirement already satisfied: pandas in /usr/local/lib/python3.7/dist-packages (from netpyne) (1.1.5)\n",
            "Requirement already satisfied: matplotlib in /usr/local/lib/python3.7/dist-packages (from netpyne) (3.2.2)\n",
            "Requirement already satisfied: Jinja2>=2.9 in /usr/local/lib/python3.7/dist-packages (from bokeh->netpyne) (2.11.3)\n",
            "Requirement already satisfied: PyYAML>=3.10 in /usr/local/lib/python3.7/dist-packages (from bokeh->netpyne) (3.13)\n",
            "Requirement already satisfied: pillow>=7.1.0 in /usr/local/lib/python3.7/dist-packages (from bokeh->netpyne) (7.1.2)\n",
            "Requirement already satisfied: python-dateutil>=2.1 in /usr/local/lib/python3.7/dist-packages (from bokeh->netpyne) (2.8.1)\n",
            "Requirement already satisfied: typing-extensions>=3.7.4 in /usr/local/lib/python3.7/dist-packages (from bokeh->netpyne) (3.7.4.3)\n",
            "Requirement already satisfied: packaging>=16.8 in /usr/local/lib/python3.7/dist-packages (from bokeh->netpyne) (20.9)\n",
            "Requirement already satisfied: tornado>=5.1 in /usr/local/lib/python3.7/dist-packages (from bokeh->netpyne) (5.1.1)\n",
            "Requirement already satisfied: pytz>=2017.2 in /usr/local/lib/python3.7/dist-packages (from pandas->netpyne) (2018.9)\n",
            "Requirement already satisfied: cycler>=0.10 in /usr/local/lib/python3.7/dist-packages (from matplotlib->netpyne) (0.10.0)\n",
            "Requirement already satisfied: pyparsing!=2.0.4,!=2.1.2,!=2.1.6,>=2.0.1 in /usr/local/lib/python3.7/dist-packages (from matplotlib->netpyne) (2.4.7)\n",
            "Requirement already satisfied: kiwisolver>=1.0.1 in /usr/local/lib/python3.7/dist-packages (from matplotlib->netpyne) (1.3.1)\n",
            "Requirement already satisfied: MarkupSafe>=0.23 in /usr/local/lib/python3.7/dist-packages (from Jinja2>=2.9->bokeh->netpyne) (2.0.0)\n",
            "Requirement already satisfied: six>=1.5 in /usr/local/lib/python3.7/dist-packages (from python-dateutil>=2.1->bokeh->netpyne) (1.15.0)\n",
            "Installing collected packages: matplotlib-scalebar, netpyne\n",
            "Successfully installed matplotlib-scalebar-0.7.2 netpyne-1.0.0.2\n"
          ],
          "name": "stdout"
        }
      ]
    },
    {
      "cell_type": "code",
      "metadata": {
        "id": "iQdflm5buFqr"
      },
      "source": [
        "import neuron\n",
        "import netpyne"
      ],
      "execution_count": 8,
      "outputs": []
    },
    {
      "cell_type": "code",
      "metadata": {
        "id": "FxonAG1vuRYM"
      },
      "source": [
        ""
      ],
      "execution_count": null,
      "outputs": []
    }
  ]
}